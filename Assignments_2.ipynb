{
 "cells": [
  {
   "cell_type": "markdown",
   "id": "aa5df018",
   "metadata": {},
   "source": [
    "### 1. What are the two values of the Boolean data type? How do you write them?"
   ]
  },
  {
   "cell_type": "code",
   "execution_count": null,
   "id": "f19f0dce",
   "metadata": {},
   "outputs": [],
   "source": [
    "True, False"
   ]
  },
  {
   "cell_type": "markdown",
   "id": "f223e1f4",
   "metadata": {},
   "source": [
    "### 2. What are the three different types of Boolean operators?"
   ]
  },
  {
   "cell_type": "code",
   "execution_count": null,
   "id": "32bdf6ca",
   "metadata": {},
   "outputs": [],
   "source": [
    "'&&', '||', '!', but we can also use 'and', 'or', 'not'."
   ]
  },
  {
   "cell_type": "markdown",
   "id": "2976d079",
   "metadata": {},
   "source": [
    "### 3. Make a list of each Boolean operator&#39;s truth tables (i.e. every possible combination of Boolean values for the operator and what it evaluate )."
   ]
  },
  {
   "cell_type": "code",
   "execution_count": 6,
   "id": "bcd0713a",
   "metadata": {},
   "outputs": [
    {
     "name": "stdout",
     "output_type": "stream",
     "text": [
      "A&&B:  [True, False, False, False]\n",
      "A||B:  [True, True, True, False]\n",
      "A!B:  [False, True]\n"
     ]
    }
   ],
   "source": [
    "# <!-- and(&&) Operator -->\n",
    "\n",
    "A = [True, True, False, False]\n",
    "B = [True, False, True, False]\n",
    "result = [x and y for x, y in zip(A, B)] \n",
    "print(\"A&&B: \", result)\n",
    "\n",
    "# <!--  or(||) Operator -->\n",
    "\n",
    "A = [True, True, False, False]\n",
    "B = [True, False, True, False]\n",
    "result = [x or y for x, y in zip(A, B)] \n",
    "print(\"A||B: \", result)\n",
    "\n",
    "\n",
    "# <!--  not(!) Operator -->\n",
    "A = [True, False]\n",
    "result = [not x for x in A]\n",
    "print(\"A!B: \", result)\n",
    "\n"
   ]
  },
  {
   "cell_type": "markdown",
   "id": "d8282a84",
   "metadata": {},
   "source": [
    "### 4. What are the values of the following expressions?\n",
    "(5 &gt; 4) and (3 == 5)\n",
    "not (5 &gt; 4)\n",
    "(5 &gt; 4) or (3 == 5)\n",
    "not ((5 &gt; 4) or (3 == 5))\n",
    "(True and True) and (True == False)\n",
    "(not False) or (not True)"
   ]
  },
  {
   "cell_type": "code",
   "execution_count": 18,
   "id": "eb6afe10",
   "metadata": {},
   "outputs": [
    {
     "name": "stdout",
     "output_type": "stream",
     "text": [
      "False\n",
      "False\n",
      "False\n",
      "True\n",
      "False\n",
      "True\n"
     ]
    }
   ],
   "source": [
    "print((5 > 4) and (3 == 5))\n",
    "print(not (5 > 4))\n",
    "print((5 > 4) and (3 == 5))\n",
    "print(not((5 > 4) and (3 == 5)))\n",
    "print((True and True) and (True == False))\n",
    "print((not False) or (not True))"
   ]
  },
  {
   "cell_type": "markdown",
   "id": "41f70ee7",
   "metadata": {},
   "source": [
    "### 5. What are the six comparison operators?"
   ]
  },
  {
   "cell_type": "raw",
   "id": "332dcabf",
   "metadata": {},
   "source": [
    "Equal to (==)\n",
    "Not equal to (!=)\n",
    "Greater than (>)\n",
    "Less than (<)\n",
    "Greater than or equal to (>=)\n",
    "Less than or equal to (<=)"
   ]
  },
  {
   "cell_type": "markdown",
   "id": "fa78016f",
   "metadata": {},
   "source": [
    "### 6. How do you tell the difference between the equal to and assignment operators?    Describe a condition and when you would use one."
   ]
  },
  {
   "cell_type": "code",
   "execution_count": null,
   "id": "fc02f065",
   "metadata": {},
   "outputs": [],
   "source": [
    "# The Differance is equal uses (==), and Assignments uses (=).\n",
    "x = 10\n",
    "y = 20 \n",
    "\n",
    "# Here I uses = for assigning and (==) operator for comparison. \n",
    "x == y\n"
   ]
  },
  {
   "cell_type": "markdown",
   "id": "e6aa5b90",
   "metadata": {},
   "source": [
    "### 7. Identify the three blocks in this code:\n",
    "```python\n",
    "spam = 0\n",
    "if spam == 10:\n",
    "\tprint('eggs')\n",
    "if spam > 5:\n",
    "\tprint('bacon')\n",
    "else:\n",
    "\tprint('ham')\n",
    "print('spam')\n",
    "print('spam')\n",
    "```"
   ]
  },
  {
   "cell_type": "code",
   "execution_count": 22,
   "id": "444f5ab4",
   "metadata": {},
   "outputs": [
    {
     "name": "stdout",
     "output_type": "stream",
     "text": [
      "ham\n",
      "spam\n",
      "spam\n"
     ]
    }
   ],
   "source": [
    "# Block 1:\n",
    "\n",
    "spam = 0\n",
    "if spam == 10:\n",
    "    print('eggs')\n",
    "    \n",
    "# Block 2:    \n",
    "if spam > 5:\n",
    "    print('bacon')\n",
    "else:\n",
    "    print('ham')\n",
    "    \n",
    "# Block 3\n",
    "\n",
    "print('spam')\n",
    "print('spam')"
   ]
  },
  {
   "cell_type": "markdown",
   "id": "f63a44c9",
   "metadata": {},
   "source": [
    "### 8. Write code that prints Hello if 1 is stored in spam, prints Howdy if 2 is stored in spam, and prints Greetings! if anything else is stored in spam."
   ]
  },
  {
   "cell_type": "code",
   "execution_count": 25,
   "id": "b42915f0",
   "metadata": {},
   "outputs": [
    {
     "name": "stdout",
     "output_type": "stream",
     "text": [
      "Greetings!\n"
     ]
    }
   ],
   "source": [
    "spam = 10\n",
    "\n",
    "if spam == 1:\n",
    "    print(\"Hello\")\n",
    "if spam == 2:\n",
    "    print(\"Howdy\")\n",
    "else:\n",
    "    print(\"Greetings!\")\n",
    "\n"
   ]
  },
  {
   "cell_type": "markdown",
   "id": "1d9083f0",
   "metadata": {},
   "source": [
    "### 9.If your programme is stuck in an endless loop, what keys you’ll press?"
   ]
  },
  {
   "cell_type": "markdown",
   "id": "5cee40b9",
   "metadata": {},
   "source": [
    "Ctrl+c"
   ]
  },
  {
   "cell_type": "markdown",
   "id": "ce67457e",
   "metadata": {},
   "source": [
    "### 10. How can you tell the difference between break and continue?\n",
    "\n"
   ]
  },
  {
   "cell_type": "markdown",
   "id": "280e6c99",
   "metadata": {},
   "source": [
    "The **break** statement is used to terminate the execution of a loop immediately.\n",
    "And the program jumpts to the next statement follwing the loop.\n",
    "\n",
    "```python\n",
    "for i in range(1, 10):\n",
    "    if i == 4:\n",
    "        break\n",
    "    print(i)\n",
    "```\n",
    "\n",
    "The **continue** statement is used to skip the current iteration of a loop and jump to the next iteration.\n",
    "\n",
    "```python\n",
    "\n",
    "for i in range(1, 6):\n",
    "    if i == 3:\n",
    "        continue\n",
    "    print(i)\n",
    "```\n",
    "\n",
    "\n",
    "\n",
    "\n",
    "This causes the loop to skip printing 3 and immediately jump to the next iteration"
   ]
  },
  {
   "cell_type": "markdown",
   "id": "0f574f7a",
   "metadata": {},
   "source": [
    "### 11. In a for loop, what is the difference between range(10), range(0, 10), and range(0, 10, 1)?"
   ]
  },
  {
   "cell_type": "raw",
   "id": "0be855ae",
   "metadata": {},
   "source": [
    "range(10)        generates numbers from 0 to 9.\n",
    "range(0, 10)     also generates numbers from 0 to 9.\n",
    "range(0, 10, 1)  does the same thing as the above two. However increment 1 is the default\n",
    "\n",
    "but the result looks same \n",
    "\n",
    " 0, 1, 2, 3, 4, 5, 6, 7, 8, 9"
   ]
  },
  {
   "cell_type": "markdown",
   "id": "56f05fb6",
   "metadata": {},
   "source": [
    "### 12. Write a short program that prints the numbers 1 to 10 using a for loop. Then write an equivalent program that prints the numbers 1 to 10 using a while loop."
   ]
  },
  {
   "cell_type": "markdown",
   "id": "90ff5bc5",
   "metadata": {},
   "source": [
    "**For Loop**\n",
    "```python\n",
    "for i in range(1, 11):\n",
    "  print(i)\n",
    "```\n",
    "**While Loop**\n",
    "```python\n",
    "i = 0\n",
    "while i <=10:\n",
    "    print(i)\n",
    "    i+=1\n",
    "```"
   ]
  },
  {
   "cell_type": "markdown",
   "id": "75ddf18b",
   "metadata": {},
   "source": [
    "#### 13. If you had a function named bacon() inside a module named spam, how would you call it after importing spam?"
   ]
  },
  {
   "cell_type": "markdown",
   "id": "2c6f8acc",
   "metadata": {},
   "source": [
    "```python\n",
    "import spam\n",
    "\n",
    "spam.bacon()\n",
    "```"
   ]
  },
  {
   "cell_type": "code",
   "execution_count": null,
   "id": "6471967b",
   "metadata": {},
   "outputs": [],
   "source": []
  }
 ],
 "metadata": {
  "kernelspec": {
   "display_name": "Python 3 (ipykernel)",
   "language": "python",
   "name": "python3"
  },
  "language_info": {
   "codemirror_mode": {
    "name": "ipython",
    "version": 3
   },
   "file_extension": ".py",
   "mimetype": "text/x-python",
   "name": "python",
   "nbconvert_exporter": "python",
   "pygments_lexer": "ipython3",
   "version": "3.11.3"
  }
 },
 "nbformat": 4,
 "nbformat_minor": 5
}
